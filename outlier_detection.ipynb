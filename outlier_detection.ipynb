{
 "cells": [
  {
   "cell_type": "code",
   "execution_count": 1,
   "id": "d30d0683",
   "metadata": {},
   "outputs": [],
   "source": [
    "import numpy as np\n",
    "import pandas as pd\n",
    "import matplotlib.pyplot as plt\n",
    "from pyod.models.hbos import HBOS\n",
    "from pyod.utils.data import evaluate_print"
   ]
  },
  {
   "cell_type": "code",
   "execution_count": 2,
   "id": "6beaffdd",
   "metadata": {},
   "outputs": [],
   "source": [
    "column_names = [\n",
    "    'timestamp', 'duration', 'source_ip', 'dst_ip', 'source_port', 'dst_port',\n",
    "    'protocol', 'flags', 'forward_status', 'type_of_service', 'packets', 'bytes', 'type'\n",
    "]\n",
    "\n",
    "dtypes = {\n",
    "    #'timestamp': datetime,\n",
    "    'duration': float,\n",
    "    'source_ip': str,\n",
    "    'dst_ip': str,\n",
    "    'source_port': int,\n",
    "    'dst_port': int,\n",
    "    'protocol': str,\n",
    "    'flags': str,\n",
    "    'forward_status': int,\n",
    "    'type_of_service': int,\n",
    "    'packets': int,\n",
    "    'bytes': int,\n",
    "    'type': str\n",
    "}"
   ]
  },
  {
   "cell_type": "code",
   "execution_count": 3,
   "id": "33b50d18",
   "metadata": {},
   "outputs": [],
   "source": [
    "df = pd.read_csv('./data/training/uniq/20160318.csv', header=None, names=column_names, dtype=dtypes, parse_dates=[0])\n",
    "#df2 = pd.read_csv('./data/march/week3/spam_flows_cut.csv', nrows=100, header=None, names=column_names, dtype=dtypes, parse_dates=[0])"
   ]
  },
  {
   "cell_type": "code",
   "execution_count": null,
   "id": "73581ef0",
   "metadata": {},
   "outputs": [],
   "source": [
    "df_copy = df.copy()"
   ]
  },
  {
   "cell_type": "code",
   "execution_count": 5,
   "id": "b2a7186a",
   "metadata": {},
   "outputs": [],
   "source": [
    "df_group = df_copy.groupby([df['timestamp'].dt.hour, df['timestamp'].dt.minute]).agg(['count'])"
   ]
  },
  {
   "cell_type": "code",
   "execution_count": 6,
   "id": "299eebfe",
   "metadata": {},
   "outputs": [],
   "source": [
    "xaxis = np.arange(df_group.shape[0])\n",
    "yaxis = df_group['timestamp'].values[:,0]"
   ]
  },
  {
   "cell_type": "code",
   "execution_count": 7,
   "id": "e968d813",
   "metadata": {},
   "outputs": [
    {
     "data": {
      "image/png": "[encoded data removed]",
      "text/plain": [
       "<Figure size 432x288 with 1 Axes>"
      ]
     },
     "metadata": {
      "needs_background": "light"
     },
     "output_type": "display_data"
    }
   ],
   "source": [
    "plt.plot(xaxis, yaxis)\n",
    "plt.show()"
   ]
  },
  {
   "cell_type": "code",
   "execution_count": 22,
   "id": "a0d34f6e",
   "metadata": {},
   "outputs": [
    {
     "data": {
      "text/plain": [
       "(788, 2)"
      ]
     },
     "execution_count": 22,
     "metadata": {},
     "output_type": "execute_result"
    }
   ],
   "source": [
    "outlier_fraction = 0.2\n",
    "X1 = xaxis.reshape(-1, 1)\n",
    "X2 = yaxis.reshape(-1, 1)\n",
    "X_train = np.concatenate((X1, X2), axis=1)\n",
    "X_train.shape"
   ]
  },
  {
   "cell_type": "code",
   "execution_count": 23,
   "id": "1c278e9e",
   "metadata": {},
   "outputs": [],
   "source": [
    "clf_name = 'HBOS'\n",
    "clf = HBOS()\n",
    "clf.fit(X_train)\n",
    "y_train_pred = clf.labels_\n",
    "y_train_scores = clf.decision_scores_\n",
    "#print(y_train_pred)\n",
    "#print(y_train_scores)"
   ]
  },
  {
   "cell_type": "code",
   "execution_count": 40,
   "id": "61c31d5a",
   "metadata": {},
   "outputs": [
    {
     "name": "stdout",
     "output_type": "stream",
     "text": [
      "(788,)\n",
      "(788,)\n",
      "       0  1\n",
      "0      0  1\n",
      "1      1  0\n",
      "2      2  0\n",
      "3      3  0\n",
      "4      4  0\n",
      "..   ... ..\n",
      "783  783  0\n",
      "784  784  0\n",
      "785  785  0\n",
      "786  786  1\n",
      "787  787  0\n",
      "\n",
      "[788 rows x 2 columns]\n",
      "       0  1\n",
      "0      0  1\n",
      "8      8  1\n",
      "18    18  1\n",
      "218  218  1\n",
      "251  251  1\n",
      "311  311  1\n",
      "384  384  1\n",
      "496  496  1\n",
      "497  497  1\n",
      "498  498  1\n",
      "499  499  1\n",
      "500  500  1\n",
      "501  501  1\n",
      "502  502  1\n",
      "503  503  1\n",
      "504  504  1\n",
      "505  505  1\n",
      "506  506  1\n",
      "507  507  1\n",
      "508  508  1\n",
      "509  509  1\n",
      "510  510  1\n",
      "548  548  1\n",
      "550  550  1\n",
      "551  551  1\n",
      "552  552  1\n",
      "786  786  1\n"
     ]
    }
   ],
   "source": [
    "print(y_train_pred.shape)\n",
    "print(xaxis.shape)\n",
    "scatter = pd.DataFrame([xaxis, y_train_pred]).T\n",
    "print(scatter)\n",
    "logicalscatter = scatter[scatter[1] > 0]\n",
    "print(logicalscatter)"
   ]
  },
  {
   "cell_type": "code",
   "execution_count": 44,
   "id": "c36c2f67",
   "metadata": {},
   "outputs": [
    {
     "data": {
      "text/plain": [
       "<matplotlib.collections.PathCollection at 0x1dc2fb71c70>"
      ]
     },
     "execution_count": 44,
     "metadata": {},
     "output_type": "execute_result"
    },
    {
     "data": {
      "image/png": "[encoded data removed]",
      "text/plain": [
       "<Figure size 432x288 with 1 Axes>"
      ]
     },
     "metadata": {
      "needs_background": "light"
     },
     "output_type": "display_data"
    }
   ],
   "source": [
    "plt.scatter(logicalscatter[0], logicalscatter[1], c='red', marker='x')"
   ]
  },
  {
   "cell_type": "code",
   "execution_count": 45,
   "id": "4c7a9aae",
   "metadata": {},
   "outputs": [
    {
     "data": {
      "image/png": "[encoded data removed]",
      "text/plain": [
       "<Figure size 432x288 with 1 Axes>"
      ]
     },
     "metadata": {
      "needs_background": "light"
     },
     "output_type": "display_data"
    }
   ],
   "source": [
    "fig = plt.figure()\n",
    "plt.plot(xaxis, yaxis)\n",
    "plt.scatter(logicalscatter[0], logicalscatter[1], c='red', marker='x')\n",
    "plt.show()"
   ]
  }
 ],
 "metadata": {
  "kernelspec": {
   "display_name": "Python 3",
   "language": "python",
   "name": "python3"
  },
  "language_info": {
   "codemirror_mode": {
    "name": "ipython",
    "version": 3
   },
   "file_extension": ".py",
   "mimetype": "text/x-python",
   "name": "python",
   "nbconvert_exporter": "python",
   "pygments_lexer": "ipython3",
   "version": "3.9.4"
  }
 },
 "nbformat": 4,
 "nbformat_minor": 5
}
